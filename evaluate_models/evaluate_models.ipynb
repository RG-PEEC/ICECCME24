{
 "cells": [
  {
   "cell_type": "code",
   "execution_count": 14,
   "id": "initial_id",
   "metadata": {
    "collapsed": true,
    "ExecuteTime": {
     "end_time": "2024-06-29T13:27:49.308961Z",
     "start_time": "2024-06-29T13:27:49.278130Z"
    }
   },
   "outputs": [
    {
     "name": "stdout",
     "output_type": "stream",
     "text": [
      "The autoreload extension is already loaded. To reload it, use:\n",
      "  %reload_ext autoreload\n"
     ]
    }
   ],
   "source": [
    "import torch.backends.mps\n",
    "# autoreload modules\n",
    "%load_ext autoreload\n",
    "%autoreload 2"
   ]
  },
  {
   "cell_type": "code",
   "execution_count": 15,
   "outputs": [],
   "source": [
    "# imports\n",
    "import pandas as pd\n",
    "from sentence_transformers.cross_encoder import CrossEncoder\n",
    "from sentence_transformers.cross_encoder.evaluation import CEBinaryClassificationEvaluator\n",
    "import logging\n",
    "import matplotlib.pyplot as plt\n",
    "import numpy as np"
   ],
   "metadata": {
    "collapsed": false,
    "ExecuteTime": {
     "end_time": "2024-06-29T13:27:49.551498Z",
     "start_time": "2024-06-29T13:27:49.473667Z"
    }
   },
   "id": "4ffc6570630c62ff"
  },
  {
   "cell_type": "markdown",
   "source": [
    "# Prepare Test Dataset"
   ],
   "metadata": {
    "collapsed": false
   },
   "id": "e78ea91f3b8d7ac"
  },
  {
   "cell_type": "code",
   "execution_count": 16,
   "outputs": [],
   "source": [
    "# helper function to convert df in a format that cross encoder can understand\n",
    "def get_dataset_from_df(col_text_a, col_text_b, label_col, df):\n",
    "    dataset = []\n",
    "    for index, row in df.iterrows():\n",
    "        text_a = row[col_text_a]\n",
    "        text_b = row[col_text_b]\n",
    "        label = row[label_col]\n",
    "        dataset.append((text_a, text_b, label))\n",
    "        dataset.append((text_b, text_a, label))\n",
    "    return dataset"
   ],
   "metadata": {
    "collapsed": false,
    "ExecuteTime": {
     "end_time": "2024-06-29T13:27:50.319855Z",
     "start_time": "2024-06-29T13:27:50.275758Z"
    }
   },
   "id": "3ccbef89d7bda10d"
  },
  {
   "cell_type": "code",
   "execution_count": 23,
   "outputs": [],
   "source": [
    "# Load the test dataset\n",
    "test_df = pd.read_csv('../data/labeled_data/test_data.csv', sep=';')\n",
    "test_df['title_description'] = test_df['title'] + ' ' + test_df['description']\n",
    "# create the required test data structure for evaluation\n",
    "test_dataset_list = get_dataset_from_df('goal', 'title_description', 'label_manual', test_df)\n",
    "\n",
    "# split the dataset into sentence pairs (input) and labels (true output)\n",
    "val_sentence_pairs = [[t[0], t[1]] for t in test_dataset_list]\n",
    "labels = [t[2] for t in test_dataset_list]"
   ],
   "metadata": {
    "collapsed": false,
    "ExecuteTime": {
     "end_time": "2024-06-29T13:28:36.875036Z",
     "start_time": "2024-06-29T13:28:36.835701Z"
    }
   },
   "id": "adda122c6447b39d"
  },
  {
   "cell_type": "code",
   "execution_count": 56,
   "outputs": [
    {
     "data": {
      "text/plain": "check_random\nFalse    0.508929\nTrue     0.491071\nName: proportion, dtype: float64"
     },
     "execution_count": 56,
     "metadata": {},
     "output_type": "execute_result"
    }
   ],
   "source": [
    "# add a col to test df with randomly labels (0 or 1) \n",
    "import random\n",
    "\n",
    "test_df['label_random'] = [random.choice([0, 1]) for i in range(test_df.shape[0])]\n",
    "\n",
    "# check accuracy of random labels\n",
    "test_df['check_random'] = test_df['label_manual'] == test_df['label_random']\n",
    "\n",
    "test_df['check_random'].value_counts(normalize=True)\n"
   ],
   "metadata": {
    "collapsed": false,
    "ExecuteTime": {
     "end_time": "2024-06-28T13:58:23.525584Z",
     "start_time": "2024-06-28T13:58:23.494112Z"
    }
   },
   "id": "1070f35669f563fa"
  },
  {
   "cell_type": "markdown",
   "source": [],
   "metadata": {
    "collapsed": false
   },
   "id": "2fc8697232fe29ec"
  },
  {
   "cell_type": "code",
   "execution_count": 25,
   "outputs": [
    {
     "data": {
      "text/plain": "                                                  goal  \\\n0                    I would like to have firm values.   \n1    ESC in Danimarca: volontariato in una scuola s...   \n2          I would like to have other people trust me.   \n3    Volunteering in Tolnai Szent István Catholic H...   \n4                            I would like to be loyal.   \n..                                                 ...   \n219  Get closer to nature while volunteering in Kau...   \n220  Decrease amount of unnecessary and tedious tas...   \n221  trail steward - friends of okanagan rail trail...   \n222    I would like to strengthen my social competency   \n223  Grants Administrator\\n          \\n          \\n...   \n\n                                     title_description  label_manual  \n0    ESC in Danimarca: volontariato in una scuola s...             1  \n1                    I would like to have firm values.             1  \n2    Volunteering in Tolnai Szent István Catholic H...             1  \n3          I would like to have other people trust me.             1  \n4    VOLUNTEERING AT TIRANT LO BLANC PRIMARY SCHOOL...             1  \n..                                                 ...           ...  \n219              I would like to feel safe and secure.             0  \n220  trail steward - friends of okanagan rail trail...             1  \n221  Decrease amount of unnecessary and tedious tas...             1  \n222  Grants Administrator\\n          \\n          \\n...             0  \n223    I would like to strengthen my social competency             0  \n\n[224 rows x 3 columns]",
      "text/html": "<div>\n<style scoped>\n    .dataframe tbody tr th:only-of-type {\n        vertical-align: middle;\n    }\n\n    .dataframe tbody tr th {\n        vertical-align: top;\n    }\n\n    .dataframe thead th {\n        text-align: right;\n    }\n</style>\n<table border=\"1\" class=\"dataframe\">\n  <thead>\n    <tr style=\"text-align: right;\">\n      <th></th>\n      <th>goal</th>\n      <th>title_description</th>\n      <th>label_manual</th>\n    </tr>\n  </thead>\n  <tbody>\n    <tr>\n      <th>0</th>\n      <td>I would like to have firm values.</td>\n      <td>ESC in Danimarca: volontariato in una scuola s...</td>\n      <td>1</td>\n    </tr>\n    <tr>\n      <th>1</th>\n      <td>ESC in Danimarca: volontariato in una scuola s...</td>\n      <td>I would like to have firm values.</td>\n      <td>1</td>\n    </tr>\n    <tr>\n      <th>2</th>\n      <td>I would like to have other people trust me.</td>\n      <td>Volunteering in Tolnai Szent István Catholic H...</td>\n      <td>1</td>\n    </tr>\n    <tr>\n      <th>3</th>\n      <td>Volunteering in Tolnai Szent István Catholic H...</td>\n      <td>I would like to have other people trust me.</td>\n      <td>1</td>\n    </tr>\n    <tr>\n      <th>4</th>\n      <td>I would like to be loyal.</td>\n      <td>VOLUNTEERING AT TIRANT LO BLANC PRIMARY SCHOOL...</td>\n      <td>1</td>\n    </tr>\n    <tr>\n      <th>...</th>\n      <td>...</td>\n      <td>...</td>\n      <td>...</td>\n    </tr>\n    <tr>\n      <th>219</th>\n      <td>Get closer to nature while volunteering in Kau...</td>\n      <td>I would like to feel safe and secure.</td>\n      <td>0</td>\n    </tr>\n    <tr>\n      <th>220</th>\n      <td>Decrease amount of unnecessary and tedious tas...</td>\n      <td>trail steward - friends of okanagan rail trail...</td>\n      <td>1</td>\n    </tr>\n    <tr>\n      <th>221</th>\n      <td>trail steward - friends of okanagan rail trail...</td>\n      <td>Decrease amount of unnecessary and tedious tas...</td>\n      <td>1</td>\n    </tr>\n    <tr>\n      <th>222</th>\n      <td>I would like to strengthen my social competency</td>\n      <td>Grants Administrator\\n          \\n          \\n...</td>\n      <td>0</td>\n    </tr>\n    <tr>\n      <th>223</th>\n      <td>Grants Administrator\\n          \\n          \\n...</td>\n      <td>I would like to strengthen my social competency</td>\n      <td>0</td>\n    </tr>\n  </tbody>\n</table>\n<p>224 rows × 3 columns</p>\n</div>"
     },
     "execution_count": 25,
     "metadata": {},
     "output_type": "execute_result"
    }
   ],
   "source": [
    "# make a df for predictions\n",
    "predictions_df = pd.DataFrame(get_dataset_from_df('goal', 'title_description', 'label_manual', test_df), columns=['goal', 'title_description', 'label_manual'])\n",
    "predictions_df"
   ],
   "metadata": {
    "collapsed": false,
    "ExecuteTime": {
     "end_time": "2024-06-29T13:29:47.853447Z",
     "start_time": "2024-06-29T13:29:47.818694Z"
    }
   },
   "id": "fb490c107c7c7217"
  },
  {
   "cell_type": "code",
   "execution_count": 33,
   "outputs": [
    {
     "data": {
      "text/plain": "                                                  goal  \\\n0                    I would like to have firm values.   \n1    ESC in Danimarca: volontariato in una scuola s...   \n2          I would like to have other people trust me.   \n3    Volunteering in Tolnai Szent István Catholic H...   \n4                            I would like to be loyal.   \n..                                                 ...   \n219  Get closer to nature while volunteering in Kau...   \n220  Decrease amount of unnecessary and tedious tas...   \n221  trail steward - friends of okanagan rail trail...   \n222    I would like to strengthen my social competency   \n223  Grants Administrator\\n          \\n          \\n...   \n\n                                     title_description  label_manual  \\\n0    ESC in Danimarca: volontariato in una scuola s...             1   \n1                    I would like to have firm values.             1   \n2    Volunteering in Tolnai Szent István Catholic H...             1   \n3          I would like to have other people trust me.             1   \n4    VOLUNTEERING AT TIRANT LO BLANC PRIMARY SCHOOL...             1   \n..                                                 ...           ...   \n219              I would like to feel safe and secure.             0   \n220  trail steward - friends of okanagan rail trail...             1   \n221  Decrease amount of unnecessary and tedious tas...             1   \n222  Grants Administrator\\n          \\n          \\n...             0   \n223    I would like to strengthen my social competency             0   \n\n     sdt_cluster                 gpt_sector text_len  \n0       autonomy                    Bildung     2447  \n1       autonomy                    Bildung     2447  \n2       autonomy                    Bildung     2244  \n3       autonomy                    Bildung     2244  \n4       autonomy                    Bildung     1958  \n..           ...                        ...      ...  \n219  relatedness  Umwelt, Natur, Tierschutz     1868  \n220  relatedness  Umwelt, Natur, Tierschutz      683  \n221  relatedness  Umwelt, Natur, Tierschutz      683  \n222  relatedness  Umwelt, Natur, Tierschutz      699  \n223  relatedness  Umwelt, Natur, Tierschutz      699  \n\n[224 rows x 6 columns]",
      "text/html": "<div>\n<style scoped>\n    .dataframe tbody tr th:only-of-type {\n        vertical-align: middle;\n    }\n\n    .dataframe tbody tr th {\n        vertical-align: top;\n    }\n\n    .dataframe thead th {\n        text-align: right;\n    }\n</style>\n<table border=\"1\" class=\"dataframe\">\n  <thead>\n    <tr style=\"text-align: right;\">\n      <th></th>\n      <th>goal</th>\n      <th>title_description</th>\n      <th>label_manual</th>\n      <th>sdt_cluster</th>\n      <th>gpt_sector</th>\n      <th>text_len</th>\n    </tr>\n  </thead>\n  <tbody>\n    <tr>\n      <th>0</th>\n      <td>I would like to have firm values.</td>\n      <td>ESC in Danimarca: volontariato in una scuola s...</td>\n      <td>1</td>\n      <td>autonomy</td>\n      <td>Bildung</td>\n      <td>2447</td>\n    </tr>\n    <tr>\n      <th>1</th>\n      <td>ESC in Danimarca: volontariato in una scuola s...</td>\n      <td>I would like to have firm values.</td>\n      <td>1</td>\n      <td>autonomy</td>\n      <td>Bildung</td>\n      <td>2447</td>\n    </tr>\n    <tr>\n      <th>2</th>\n      <td>I would like to have other people trust me.</td>\n      <td>Volunteering in Tolnai Szent István Catholic H...</td>\n      <td>1</td>\n      <td>autonomy</td>\n      <td>Bildung</td>\n      <td>2244</td>\n    </tr>\n    <tr>\n      <th>3</th>\n      <td>Volunteering in Tolnai Szent István Catholic H...</td>\n      <td>I would like to have other people trust me.</td>\n      <td>1</td>\n      <td>autonomy</td>\n      <td>Bildung</td>\n      <td>2244</td>\n    </tr>\n    <tr>\n      <th>4</th>\n      <td>I would like to be loyal.</td>\n      <td>VOLUNTEERING AT TIRANT LO BLANC PRIMARY SCHOOL...</td>\n      <td>1</td>\n      <td>autonomy</td>\n      <td>Bildung</td>\n      <td>1958</td>\n    </tr>\n    <tr>\n      <th>...</th>\n      <td>...</td>\n      <td>...</td>\n      <td>...</td>\n      <td>...</td>\n      <td>...</td>\n      <td>...</td>\n    </tr>\n    <tr>\n      <th>219</th>\n      <td>Get closer to nature while volunteering in Kau...</td>\n      <td>I would like to feel safe and secure.</td>\n      <td>0</td>\n      <td>relatedness</td>\n      <td>Umwelt, Natur, Tierschutz</td>\n      <td>1868</td>\n    </tr>\n    <tr>\n      <th>220</th>\n      <td>Decrease amount of unnecessary and tedious tas...</td>\n      <td>trail steward - friends of okanagan rail trail...</td>\n      <td>1</td>\n      <td>relatedness</td>\n      <td>Umwelt, Natur, Tierschutz</td>\n      <td>683</td>\n    </tr>\n    <tr>\n      <th>221</th>\n      <td>trail steward - friends of okanagan rail trail...</td>\n      <td>Decrease amount of unnecessary and tedious tas...</td>\n      <td>1</td>\n      <td>relatedness</td>\n      <td>Umwelt, Natur, Tierschutz</td>\n      <td>683</td>\n    </tr>\n    <tr>\n      <th>222</th>\n      <td>I would like to strengthen my social competency</td>\n      <td>Grants Administrator\\n          \\n          \\n...</td>\n      <td>0</td>\n      <td>relatedness</td>\n      <td>Umwelt, Natur, Tierschutz</td>\n      <td>699</td>\n    </tr>\n    <tr>\n      <th>223</th>\n      <td>Grants Administrator\\n          \\n          \\n...</td>\n      <td>I would like to strengthen my social competency</td>\n      <td>0</td>\n      <td>relatedness</td>\n      <td>Umwelt, Natur, Tierschutz</td>\n      <td>699</td>\n    </tr>\n  </tbody>\n</table>\n<p>224 rows × 6 columns</p>\n</div>"
     },
     "execution_count": 33,
     "metadata": {},
     "output_type": "execute_result"
    }
   ],
   "source": [
    "# based on title_description get the sdt-cluster and gpt_sector from test_df\n",
    "predictions_df['sdt_cluster'] = None\n",
    "predictions_df['gpt_sector'] = None\n",
    "predictions_df['text_len'] = None\n",
    "\n",
    "pred_index = 0\n",
    "for index, row in test_df.iterrows():\n",
    "    predictions_df.at[pred_index, 'sdt_cluster'] = row['sdt-cluster']\n",
    "    predictions_df.at[pred_index, 'gpt_sector'] = row['gpt_sector']\n",
    "    predictions_df.at[pred_index, 'text_len'] = len(row['title_description'])\n",
    "    pred_index += 1\n",
    "    predictions_df.at[pred_index, 'sdt_cluster'] = row['sdt-cluster']\n",
    "    predictions_df.at[pred_index, 'gpt_sector'] = row['gpt_sector']\n",
    "    predictions_df.at[pred_index, 'text_len'] = len(row['title_description'])\n",
    "    pred_index += 1\n",
    "predictions_df"
   ],
   "metadata": {
    "collapsed": false,
    "ExecuteTime": {
     "end_time": "2024-06-29T13:35:12.080034Z",
     "start_time": "2024-06-29T13:35:12.040125Z"
    }
   },
   "id": "3a6a53262dfbdc4c"
  },
  {
   "cell_type": "code",
   "execution_count": 37,
   "outputs": [
    {
     "name": "stdout",
     "output_type": "stream",
     "text": [
      "sdt_cluster\n",
      "relatedness    90\n",
      "autonomy       72\n",
      "competence     62\n",
      "Name: count, dtype: int64\n"
     ]
    }
   ],
   "source": [
    "# Value Counts of sdt_cluster and gpt_sector\n",
    "print(predictions_df.value_counts('sdt_cluster'))"
   ],
   "metadata": {
    "collapsed": false,
    "ExecuteTime": {
     "end_time": "2024-06-29T13:35:52.352038Z",
     "start_time": "2024-06-29T13:35:52.318727Z"
    }
   },
   "id": "f3ff055bcf0875e5"
  },
  {
   "cell_type": "code",
   "execution_count": null,
   "outputs": [],
   "source": [
    "device = \"mps\" if torch.backends.mps.is_available() else \"cuda\" if torch.cuda.is_available() else \"cpu\""
   ],
   "metadata": {
    "collapsed": false
   },
   "id": "c1b80b686d631a5e"
  },
  {
   "cell_type": "code",
   "execution_count": 38,
   "outputs": [
    {
     "name": "stderr",
     "output_type": "stream",
     "text": [
      "/opt/homebrew/Caskroom/miniforge/base/envs/TRAIN_EMBEDDINGS_ICECCME/lib/python3.11/site-packages/huggingface_hub/file_download.py:1132: FutureWarning: `resume_download` is deprecated and will be removed in version 1.0.0. Downloads always resume when possible. If you want to force a new download, use `force_download=True`.\n",
      "  warnings.warn(\n"
     ]
    },
    {
     "data": {
      "text/plain": "Batches:   0%|          | 0/7 [00:00<?, ?it/s]",
      "application/vnd.jupyter.widget-view+json": {
       "version_major": 2,
       "version_minor": 0,
       "model_id": "ff34ca122dc74dda9b7bcc832ffeba6d"
      }
     },
     "metadata": {},
     "output_type": "display_data"
    },
    {
     "name": "stdout",
     "output_type": "stream",
     "text": [
      "Counts of Model basemodel-roberta\n",
      "label_pred\n",
      "0    0.602679\n",
      "1    0.397321\n",
      "Name: proportion, dtype: float64\n",
      "label_pred\n",
      "0    135\n",
      "1     89\n",
      "Name: count, dtype: int64\n",
      "\n",
      "Results of Model basemodel-roberta\n",
      "count Matches: 115, count Misses: 109\n",
      "TP: 44, FP: 45, TN: 71, FN: 64\n",
      "Accuracy: 0.5133928571428571, Precision: 0.4943820224719101, Recall: 0.4074074074074074, F1-Score: 0.4467005076142132, Specificity: 0.6120689655172413, Cross-Entropy: 0.6728086973557116\n"
     ]
    },
    {
     "data": {
      "text/plain": "Batches:   0%|          | 0/7 [00:00<?, ?it/s]",
      "application/vnd.jupyter.widget-view+json": {
       "version_major": 2,
       "version_minor": 0,
       "model_id": "46f61dfa6b3d4b8797a970a2b1f7d59e"
      }
     },
     "metadata": {},
     "output_type": "display_data"
    },
    {
     "name": "stdout",
     "output_type": "stream",
     "text": [
      "Counts of Model qwen2\n",
      "label_pred\n",
      "1    0.625\n",
      "0    0.375\n",
      "Name: proportion, dtype: float64\n",
      "label_pred\n",
      "1    140\n",
      "0     84\n",
      "Name: count, dtype: int64\n",
      "\n",
      "Results of Model qwen2\n",
      "count Matches: 130, count Misses: 94\n",
      "TP: 77, FP: 63, TN: 53, FN: 31\n",
      "Accuracy: 0.5803571428571429, Precision: 0.55, Recall: 0.7129629629629629, F1-Score: 0.6209677419354838, Specificity: 0.45689655172413796, Cross-Entropy: 1.074370248106009\n"
     ]
    },
    {
     "data": {
      "text/plain": "Batches:   0%|          | 0/7 [00:00<?, ?it/s]",
      "application/vnd.jupyter.widget-view+json": {
       "version_major": 2,
       "version_minor": 0,
       "model_id": "e1748cbeab2742e49cd67325b804e519"
      }
     },
     "metadata": {},
     "output_type": "display_data"
    },
    {
     "name": "stdout",
     "output_type": "stream",
     "text": [
      "Counts of Model gpt\n",
      "label_pred\n",
      "1    0.852679\n",
      "0    0.147321\n",
      "Name: proportion, dtype: float64\n",
      "label_pred\n",
      "1    191\n",
      "0     33\n",
      "Name: count, dtype: int64\n",
      "\n",
      "Results of Model gpt\n",
      "count Matches: 129, count Misses: 95\n",
      "TP: 102, FP: 89, TN: 27, FN: 6\n",
      "Accuracy: 0.5758928571428571, Precision: 0.5340314136125655, Recall: 0.9444444444444444, F1-Score: 0.6822742474916388, Specificity: 0.23275862068965517, Cross-Entropy: 3.2469167348845076\n"
     ]
    },
    {
     "data": {
      "text/plain": "Batches:   0%|          | 0/7 [00:00<?, ?it/s]",
      "application/vnd.jupyter.widget-view+json": {
       "version_major": 2,
       "version_minor": 0,
       "model_id": "86b6b3f761c94434a336c652772a0cdf"
      }
     },
     "metadata": {},
     "output_type": "display_data"
    },
    {
     "name": "stdout",
     "output_type": "stream",
     "text": [
      "Counts of Model own_we\n",
      "label_pred\n",
      "0    0.700893\n",
      "1    0.299107\n",
      "Name: proportion, dtype: float64\n",
      "label_pred\n",
      "0    157\n",
      "1     67\n",
      "Name: count, dtype: int64\n",
      "\n",
      "Results of Model own_we\n",
      "count Matches: 143, count Misses: 81\n",
      "TP: 47, FP: 20, TN: 96, FN: 61\n",
      "Accuracy: 0.6383928571428571, Precision: 0.7014925373134329, Recall: 0.4351851851851852, F1-Score: 0.5371428571428573, Specificity: 0.8275862068965517, Cross-Entropy: 2.7472129242457544\n"
     ]
    },
    {
     "data": {
      "text/plain": "               Model   TP  FP  TN  FN  Accuracy  Precision    Recall  \\\n0  basemodel-roberta   44  45  71  64  0.513393   0.494382  0.407407   \n1              qwen2   77  63  53  31  0.580357   0.550000  0.712963   \n2                gpt  102  89  27   6  0.575893   0.534031  0.944444   \n3             own_we   47  20  96  61  0.638393   0.701493  0.435185   \n\n   F1-Score  Specificity  Cross-Entropy  \n0  0.446701     0.612069       0.672809  \n1  0.620968     0.456897       1.074370  \n2  0.682274     0.232759       3.246917  \n3  0.537143     0.827586       2.747213  ",
      "text/html": "<div>\n<style scoped>\n    .dataframe tbody tr th:only-of-type {\n        vertical-align: middle;\n    }\n\n    .dataframe tbody tr th {\n        vertical-align: top;\n    }\n\n    .dataframe thead th {\n        text-align: right;\n    }\n</style>\n<table border=\"1\" class=\"dataframe\">\n  <thead>\n    <tr style=\"text-align: right;\">\n      <th></th>\n      <th>Model</th>\n      <th>TP</th>\n      <th>FP</th>\n      <th>TN</th>\n      <th>FN</th>\n      <th>Accuracy</th>\n      <th>Precision</th>\n      <th>Recall</th>\n      <th>F1-Score</th>\n      <th>Specificity</th>\n      <th>Cross-Entropy</th>\n    </tr>\n  </thead>\n  <tbody>\n    <tr>\n      <th>0</th>\n      <td>basemodel-roberta</td>\n      <td>44</td>\n      <td>45</td>\n      <td>71</td>\n      <td>64</td>\n      <td>0.513393</td>\n      <td>0.494382</td>\n      <td>0.407407</td>\n      <td>0.446701</td>\n      <td>0.612069</td>\n      <td>0.672809</td>\n    </tr>\n    <tr>\n      <th>1</th>\n      <td>qwen2</td>\n      <td>77</td>\n      <td>63</td>\n      <td>53</td>\n      <td>31</td>\n      <td>0.580357</td>\n      <td>0.550000</td>\n      <td>0.712963</td>\n      <td>0.620968</td>\n      <td>0.456897</td>\n      <td>1.074370</td>\n    </tr>\n    <tr>\n      <th>2</th>\n      <td>gpt</td>\n      <td>102</td>\n      <td>89</td>\n      <td>27</td>\n      <td>6</td>\n      <td>0.575893</td>\n      <td>0.534031</td>\n      <td>0.944444</td>\n      <td>0.682274</td>\n      <td>0.232759</td>\n      <td>3.246917</td>\n    </tr>\n    <tr>\n      <th>3</th>\n      <td>own_we</td>\n      <td>47</td>\n      <td>20</td>\n      <td>96</td>\n      <td>61</td>\n      <td>0.638393</td>\n      <td>0.701493</td>\n      <td>0.435185</td>\n      <td>0.537143</td>\n      <td>0.827586</td>\n      <td>2.747213</td>\n    </tr>\n  </tbody>\n</table>\n</div>"
     },
     "execution_count": 38,
     "metadata": {},
     "output_type": "execute_result"
    }
   ],
   "source": [
    "# Configure Models and best params\n",
    "model_paths = ['cross-encoder/stsb-roberta-base','../data/models/best_qwen', '../data/models/best_gpt', '../data/models/best_own']\n",
    "names = ['basemodel-roberta','qwen2', 'gpt', 'own_we']\n",
    "batch_sizes = [32, 15, 32, 5, 32]\n",
    "\n",
    "# Create new df for results\n",
    "results_df = pd.DataFrame()\n",
    "\n",
    "# configure logging\n",
    "logging.basicConfig(level=logging.INFO, force=True)\n",
    "\n",
    "# for all Models\n",
    "for i, model_path in enumerate(model_paths):\n",
    "    # initialize model\n",
    "    model = CrossEncoder(model_path, num_labels=1, device=device)\n",
    "    \n",
    "    # get and store predictions\n",
    "    predictions = model.predict(val_sentence_pairs) # batch size maybe here\n",
    "    predictions_df[f'pred_{names[i]}'] = [1 if x >= 0.5 else 0 for x in predictions]\n",
    "    \n",
    "    # store df and check threshold\n",
    "    test_df = pd.DataFrame({'label_manual': labels, 'label_pred': predictions, 'float_pred': predictions})\n",
    "    test_df['label_pred'] = test_df['label_pred'].apply(lambda x: 1 if x >= 0.5 else 0)\n",
    "    \n",
    "    # print amount of predicted labels % and absolute\n",
    "    print(f\"Counts of Model {names[i]}\")\n",
    "    print(test_df.value_counts('label_pred', normalize=True))\n",
    "    print(test_df.value_counts('label_pred', normalize=False))\n",
    "    print()\n",
    "    \n",
    "    # Calculate TP, FP, TN, FN\n",
    "    test_df['tp'] = (test_df['label_manual'] == 1) & (test_df['label_pred'] == 1)\n",
    "    test_df['fp'] = (test_df['label_manual'] == 0) & (test_df['label_pred'] == 1)\n",
    "    test_df['tn'] = (test_df['label_manual'] == 0) & (test_df['label_pred'] == 0)\n",
    "    test_df['fn'] = (test_df['label_manual'] == 1) & (test_df['label_pred'] == 0)\n",
    "\n",
    "    tp = test_df['tp'].sum()\n",
    "    fp = test_df['fp'].sum()\n",
    "    tn = test_df['tn'].sum()\n",
    "    fn = test_df['fn'].sum()\n",
    "    \n",
    "    # calculate metrics\n",
    "    precision = tp / (tp + fp) if (tp + fp) > 0 else 0\n",
    "    recall = tp / (tp + fn) if (tp + fn) > 0 else 0\n",
    "    accuracy = (tp + tn) / test_df.shape[0]\n",
    "    f1 = (2 * precision * recall) / (precision + recall) if (precision + recall) > 0 else 0\n",
    "    specificity = tn / (tn + fp) if (tn + fp) > 0 else 0\n",
    "    cross_entropy = - (test_df['label_manual'] * np.log(test_df['float_pred']) + (1 - test_df['label_manual']) * np.log(1 - test_df['float_pred'])).mean()\n",
    "    \n",
    "    # print results\n",
    "    print(f\"Results of Model {names[i]}\")\n",
    "    print(f\"count Matches: {test_df['tp'].sum() + test_df['tn'].sum()}, count Misses: {test_df['fp'].sum() + test_df['fn'].sum()}\")\n",
    "    print(f\"TP: {tp}, FP: {fp}, TN: {tn}, FN: {fn}\")\n",
    "    print(f\"Accuracy: {accuracy}, Precision: {precision}, Recall: {recall}, F1-Score: {f1}, Specificity: {specificity}, Cross-Entropy: {cross_entropy}\")\n",
    "    print()\n",
    "    \n",
    "    # save to results\n",
    "    new_results = pd.DataFrame({\n",
    "        'Model': [names[i]],\n",
    "        'TP': [tp],\n",
    "        'FP': [fp],\n",
    "        'TN': [tn],\n",
    "        'FN': [fn],\n",
    "        'Accuracy': [accuracy],\n",
    "        'Precision': [precision],\n",
    "        'Recall': [recall],\n",
    "        'F1-Score': [f1],\n",
    "        'Specificity': [specificity],\n",
    "        'Cross-Entropy': [cross_entropy]\n",
    "    })\n",
    "\n",
    "    # concat dfs\n",
    "    results_df = pd.concat([results_df, new_results], ignore_index=True)\n",
    "    del model\n",
    "    \n",
    "# show results df\n",
    "results_df"
   ],
   "metadata": {
    "collapsed": false,
    "ExecuteTime": {
     "end_time": "2024-06-29T13:36:48.350385Z",
     "start_time": "2024-06-29T13:36:05.088056Z"
    }
   },
   "id": "debfb4c990cc5a80"
  },
  {
   "cell_type": "code",
   "execution_count": 39,
   "outputs": [],
   "source": [
    "# save to csv\n",
    "predictions_df.to_csv('../data/evaluation_results/predictions_final.csv', index=False, sep=';')"
   ],
   "metadata": {
    "collapsed": false,
    "ExecuteTime": {
     "end_time": "2024-06-29T13:36:48.395734Z",
     "start_time": "2024-06-29T13:36:48.351466Z"
    }
   },
   "id": "1d831ac0834a145f"
  },
  {
   "cell_type": "markdown",
   "source": [
    "# McNemar Test"
   ],
   "metadata": {
    "collapsed": false
   },
   "id": "4887c10fc64e7c90"
  },
  {
   "cell_type": "code",
   "execution_count": 84,
   "outputs": [
    {
     "name": "stdout",
     "output_type": "stream",
     "text": [
      "Combination: ('pred_basemodel-roberta', 'pred_qwen2')\n",
      "Statistic: 34.0, p-value: 3.2837572373979797e-06\n",
      "\n",
      "Combination: ('pred_basemodel-roberta', 'pred_gpt')\n",
      "Statistic: 9.0, p-value: 1.7092920119428793e-23\n",
      "\n",
      "Combination: ('pred_basemodel-roberta', 'pred_own_we')\n",
      "Statistic: 44.0, p-value: 0.044762094156973624\n",
      "\n",
      "Combination: ('pred_qwen2', 'pred_gpt')\n",
      "Statistic: 7.0, p-value: 4.2705216207923607e-11\n",
      "\n",
      "Combination: ('pred_qwen2', 'pred_own_we')\n",
      "Statistic: 16.0, p-value: 1.87131274564586e-13\n",
      "\n",
      "Combination: ('pred_gpt', 'pred_own_we')\n",
      "Statistic: 5.0, p-value: 3.1876229928981844e-32\n"
     ]
    },
    {
     "name": "stderr",
     "output_type": "stream",
     "text": [
      "/var/folders/_z/23l2kzhs6r1dz6q78mm2q1lw0000gn/T/ipykernel_12034/2173099439.py:18: FutureWarning: The behavior of DataFrame concatenation with empty or all-NA entries is deprecated. In a future version, this will no longer exclude empty or all-NA columns when determining the result dtypes. To retain the old behavior, exclude the relevant entries before the concat operation.\n",
      "  mcnemar_df = pd.concat([mcnemar_df, pd.DataFrame({'model_1': [comb[0]], 'model_2': [comb[1]], 'statistic': [result.statistic], 'p-value': [result.pvalue]})], ignore_index=True)\n"
     ]
    }
   ],
   "source": [
    "from itertools import combinations\n",
    "from statsmodels.stats.contingency_tables import mcnemar\n",
    "\n",
    "# get all combinations of two models\n",
    "combinations = list(combinations(predictions_df.columns[3:], 2))\n",
    "\n",
    "\n",
    "# create a df to store the results\n",
    "mcnemar_df = pd.DataFrame(columns=['model_1', 'model_2', 'statistic', 'p-value'])\n",
    "\n",
    "# for all pairs of Models\n",
    "for comb in combinations:\n",
    "    # make a cross table\n",
    "    cross_table = pd.crosstab(predictions_df[comb[0]], predictions_df[comb[1]])\n",
    "    \n",
    "    # print Models\n",
    "    print(f\"Combination: {comb}\")\n",
    "    \n",
    "    # calculate mcnemar\n",
    "    result = mcnemar(cross_table, exact=True)\n",
    "    \n",
    "    # save to df\n",
    "    mcnemar_df = pd.concat([mcnemar_df, pd.DataFrame({'model_1': [comb[0]], 'model_2': [comb[1]], 'statistic': [result.statistic], 'p-value': [result.pvalue]})], ignore_index=True)\n",
    "    \n",
    "    # print results\n",
    "    print(f\"Statistic: {result.statistic}, p-value: {result.pvalue}\")\n",
    "    print()"
   ],
   "metadata": {
    "collapsed": false,
    "ExecuteTime": {
     "end_time": "2024-06-28T17:49:59.850774Z",
     "start_time": "2024-06-28T17:49:59.806349Z"
    }
   },
   "id": "a0b94f2efbe413d3"
  },
  {
   "cell_type": "code",
   "execution_count": 85,
   "outputs": [
    {
     "data": {
      "text/plain": "                  model_1      model_2  statistic       p-value\n0  pred_basemodel-roberta   pred_qwen2       34.0  3.283757e-06\n1  pred_basemodel-roberta     pred_gpt        9.0  1.709292e-23\n2  pred_basemodel-roberta  pred_own_we       44.0  4.476209e-02\n3              pred_qwen2     pred_gpt        7.0  4.270522e-11\n4              pred_qwen2  pred_own_we       16.0  1.871313e-13\n5                pred_gpt  pred_own_we        5.0  3.187623e-32",
      "text/html": "<div>\n<style scoped>\n    .dataframe tbody tr th:only-of-type {\n        vertical-align: middle;\n    }\n\n    .dataframe tbody tr th {\n        vertical-align: top;\n    }\n\n    .dataframe thead th {\n        text-align: right;\n    }\n</style>\n<table border=\"1\" class=\"dataframe\">\n  <thead>\n    <tr style=\"text-align: right;\">\n      <th></th>\n      <th>model_1</th>\n      <th>model_2</th>\n      <th>statistic</th>\n      <th>p-value</th>\n    </tr>\n  </thead>\n  <tbody>\n    <tr>\n      <th>0</th>\n      <td>pred_basemodel-roberta</td>\n      <td>pred_qwen2</td>\n      <td>34.0</td>\n      <td>3.283757e-06</td>\n    </tr>\n    <tr>\n      <th>1</th>\n      <td>pred_basemodel-roberta</td>\n      <td>pred_gpt</td>\n      <td>9.0</td>\n      <td>1.709292e-23</td>\n    </tr>\n    <tr>\n      <th>2</th>\n      <td>pred_basemodel-roberta</td>\n      <td>pred_own_we</td>\n      <td>44.0</td>\n      <td>4.476209e-02</td>\n    </tr>\n    <tr>\n      <th>3</th>\n      <td>pred_qwen2</td>\n      <td>pred_gpt</td>\n      <td>7.0</td>\n      <td>4.270522e-11</td>\n    </tr>\n    <tr>\n      <th>4</th>\n      <td>pred_qwen2</td>\n      <td>pred_own_we</td>\n      <td>16.0</td>\n      <td>1.871313e-13</td>\n    </tr>\n    <tr>\n      <th>5</th>\n      <td>pred_gpt</td>\n      <td>pred_own_we</td>\n      <td>5.0</td>\n      <td>3.187623e-32</td>\n    </tr>\n  </tbody>\n</table>\n</div>"
     },
     "execution_count": 85,
     "metadata": {},
     "output_type": "execute_result"
    }
   ],
   "source": [
    "# show results\n",
    "mcnemar_df"
   ],
   "metadata": {
    "collapsed": false,
    "ExecuteTime": {
     "end_time": "2024-06-28T17:50:01.965056Z",
     "start_time": "2024-06-28T17:50:01.926366Z"
    }
   },
   "id": "125c3a848ab226c2"
  },
  {
   "cell_type": "markdown",
   "source": [],
   "metadata": {
    "collapsed": false
   },
   "id": "8312367ae3d888b2"
  }
 ],
 "metadata": {
  "kernelspec": {
   "display_name": "Python 3",
   "language": "python",
   "name": "python3"
  },
  "language_info": {
   "codemirror_mode": {
    "name": "ipython",
    "version": 2
   },
   "file_extension": ".py",
   "mimetype": "text/x-python",
   "name": "python",
   "nbconvert_exporter": "python",
   "pygments_lexer": "ipython2",
   "version": "2.7.6"
  }
 },
 "nbformat": 4,
 "nbformat_minor": 5
}
