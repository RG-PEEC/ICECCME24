{
 "cells": [
  {
   "cell_type": "markdown",
   "source": [
    "# Create a sample dataset"
   ],
   "metadata": {
    "collapsed": false
   },
   "id": "38848771915c0a5e"
  },
  {
   "cell_type": "code",
   "execution_count": 1,
   "id": "initial_id",
   "metadata": {
    "collapsed": true,
    "ExecuteTime": {
     "end_time": "2024-07-11T12:05:49.682270Z",
     "start_time": "2024-07-11T12:05:41.230625Z"
    }
   },
   "outputs": [],
   "source": [
    "# imports\n",
    "import pandas as pd"
   ]
  },
  {
   "cell_type": "code",
   "execution_count": 10,
   "outputs": [],
   "source": [
    "# read in data\n",
    "task_df = pd.read_csv('../data/raw/tasks_sector_classified.csv', sep=\";\")\n",
    "\n",
    "goals_df = pd.read_csv('../data/raw/goals_sdt_classified.csv', sep=\";\")"
   ],
   "metadata": {
    "collapsed": false,
    "ExecuteTime": {
     "end_time": "2024-07-11T12:09:35.386956Z",
     "start_time": "2024-07-11T12:09:35.340017Z"
    }
   },
   "id": "c1daacdbd4133d65"
  },
  {
   "cell_type": "code",
   "execution_count": 14,
   "outputs": [],
   "source": [
    "# build cross product of tasks and goals\n",
    "all_items_df = goals_df.assign(key=1).merge(task_df.assign(key=1), on='key').drop('key', axis=1)\n",
    "\n",
    "# show for checking\n",
    "# all_items_df"
   ],
   "metadata": {
    "collapsed": false,
    "ExecuteTime": {
     "end_time": "2024-07-11T12:12:35.784539Z",
     "start_time": "2024-07-11T12:12:35.706730Z"
    }
   },
   "id": "17824694cb8873c8"
  },
  {
   "cell_type": "code",
   "execution_count": 17,
   "outputs": [],
   "source": [
    "# randomly sample 0.12% of the data\n",
    "def sample_group(group, frac=0.0012, random_state=88554755):\n",
    "    return group.sample(frac=frac, random_state=random_state)"
   ],
   "metadata": {
    "collapsed": false,
    "ExecuteTime": {
     "end_time": "2024-07-11T12:14:23.968123Z",
     "start_time": "2024-07-11T12:14:23.964273Z"
    }
   },
   "id": "664c10f80840abe"
  },
  {
   "cell_type": "code",
   "execution_count": 20,
   "outputs": [
    {
     "name": "stderr",
     "output_type": "stream",
     "text": [
      "/var/folders/_z/23l2kzhs6r1dz6q78mm2q1lw0000gn/T/ipykernel_22464/1404811139.py:2: DeprecationWarning: DataFrameGroupBy.apply operated on the grouping columns. This behavior is deprecated, and in a future version of pandas the grouping columns will be excluded from the operation. Either pass `include_groups=False` to exclude the groupings or explicitly select the grouping columns after groupby to silence this warning.\n",
      "  sampled_df = all_items_df.groupby(['sdt-cluster', 'sector']).apply(sample_group, include_groups=True).reset_index(drop=True)\n"
     ]
    }
   ],
   "source": [
    "# choose sample from all items\n",
    "sampled_df = all_items_df.groupby(['sdt-cluster', 'sector']).apply(sample_group).reset_index(drop=True)"
   ],
   "metadata": {
    "collapsed": false,
    "ExecuteTime": {
     "end_time": "2024-07-11T12:15:31.379444Z",
     "start_time": "2024-07-11T12:15:31.283344Z"
    }
   },
   "id": "5e0e19e7c871e445"
  },
  {
   "cell_type": "code",
   "execution_count": 21,
   "outputs": [
    {
     "data": {
      "text/plain": "    sdt-cluster                                       sector  count\n0      autonomy     Betreuung von pflegebedürftigen Personen      4\n1      autonomy                                      Bildung     37\n2      autonomy      Bürgerliche Aktivitäten und Gemeinwesen      9\n3      autonomy                          Büro und Wirtschaft      6\n4      autonomy                      Entwicklungshilfe (eig)     18\n5      autonomy                             Flüchtlingshilfe      5\n6      autonomy       Katastrophenhilfs- und Rettungsdienste      4\n7      autonomy                              Kinderbetreuung      2\n8      autonomy                  Kunst, Kultur, Unterhaltung     21\n9      autonomy  Politische Arbeit und Interessensvertretung     12\n10     autonomy                          Religion und Kirche      2\n11     autonomy          Reparaturen, handwerkliche Arbeiten      1\n12     autonomy                      Soziales und Gesundheit     53\n13     autonomy                           Sport und Bewegung      7\n14     autonomy                    Umwelt, Natur, Tierschutz     23\n15   competence     Betreuung von pflegebedürftigen Personen      3\n16   competence                                      Bildung     30\n17   competence      Bürgerliche Aktivitäten und Gemeinwesen      7\n18   competence                          Büro und Wirtschaft      5\n19   competence                      Entwicklungshilfe (eig)     14\n20   competence                             Flüchtlingshilfe      4\n21   competence       Katastrophenhilfs- und Rettungsdienste      3\n22   competence                              Kinderbetreuung      2\n23   competence                  Kunst, Kultur, Unterhaltung     17\n24   competence  Politische Arbeit und Interessensvertretung     10\n25   competence                          Religion und Kirche      1\n26   competence          Reparaturen, handwerkliche Arbeiten      1\n27   competence                      Soziales und Gesundheit     43\n28   competence                           Sport und Bewegung      6\n29   competence                    Umwelt, Natur, Tierschutz     18\n30  relatedness     Betreuung von pflegebedürftigen Personen      5\n31  relatedness                                      Bildung     43\n32  relatedness      Bürgerliche Aktivitäten und Gemeinwesen     10\n33  relatedness                          Büro und Wirtschaft      6\n34  relatedness                      Entwicklungshilfe (eig)     21\n35  relatedness                             Flüchtlingshilfe      6\n36  relatedness       Katastrophenhilfs- und Rettungsdienste      5\n37  relatedness                              Kinderbetreuung      3\n38  relatedness                  Kunst, Kultur, Unterhaltung     25\n39  relatedness  Politische Arbeit und Interessensvertretung     14\n40  relatedness                          Religion und Kirche      2\n41  relatedness          Reparaturen, handwerkliche Arbeiten      2\n42  relatedness                      Soziales und Gesundheit     61\n43  relatedness                           Sport und Bewegung      8\n44  relatedness                    Umwelt, Natur, Tierschutz     26",
      "text/html": "<div>\n<style scoped>\n    .dataframe tbody tr th:only-of-type {\n        vertical-align: middle;\n    }\n\n    .dataframe tbody tr th {\n        vertical-align: top;\n    }\n\n    .dataframe thead th {\n        text-align: right;\n    }\n</style>\n<table border=\"1\" class=\"dataframe\">\n  <thead>\n    <tr style=\"text-align: right;\">\n      <th></th>\n      <th>sdt-cluster</th>\n      <th>sector</th>\n      <th>count</th>\n    </tr>\n  </thead>\n  <tbody>\n    <tr>\n      <th>0</th>\n      <td>autonomy</td>\n      <td>Betreuung von pflegebedürftigen Personen</td>\n      <td>4</td>\n    </tr>\n    <tr>\n      <th>1</th>\n      <td>autonomy</td>\n      <td>Bildung</td>\n      <td>37</td>\n    </tr>\n    <tr>\n      <th>2</th>\n      <td>autonomy</td>\n      <td>Bürgerliche Aktivitäten und Gemeinwesen</td>\n      <td>9</td>\n    </tr>\n    <tr>\n      <th>3</th>\n      <td>autonomy</td>\n      <td>Büro und Wirtschaft</td>\n      <td>6</td>\n    </tr>\n    <tr>\n      <th>4</th>\n      <td>autonomy</td>\n      <td>Entwicklungshilfe (eig)</td>\n      <td>18</td>\n    </tr>\n    <tr>\n      <th>5</th>\n      <td>autonomy</td>\n      <td>Flüchtlingshilfe</td>\n      <td>5</td>\n    </tr>\n    <tr>\n      <th>6</th>\n      <td>autonomy</td>\n      <td>Katastrophenhilfs- und Rettungsdienste</td>\n      <td>4</td>\n    </tr>\n    <tr>\n      <th>7</th>\n      <td>autonomy</td>\n      <td>Kinderbetreuung</td>\n      <td>2</td>\n    </tr>\n    <tr>\n      <th>8</th>\n      <td>autonomy</td>\n      <td>Kunst, Kultur, Unterhaltung</td>\n      <td>21</td>\n    </tr>\n    <tr>\n      <th>9</th>\n      <td>autonomy</td>\n      <td>Politische Arbeit und Interessensvertretung</td>\n      <td>12</td>\n    </tr>\n    <tr>\n      <th>10</th>\n      <td>autonomy</td>\n      <td>Religion und Kirche</td>\n      <td>2</td>\n    </tr>\n    <tr>\n      <th>11</th>\n      <td>autonomy</td>\n      <td>Reparaturen, handwerkliche Arbeiten</td>\n      <td>1</td>\n    </tr>\n    <tr>\n      <th>12</th>\n      <td>autonomy</td>\n      <td>Soziales und Gesundheit</td>\n      <td>53</td>\n    </tr>\n    <tr>\n      <th>13</th>\n      <td>autonomy</td>\n      <td>Sport und Bewegung</td>\n      <td>7</td>\n    </tr>\n    <tr>\n      <th>14</th>\n      <td>autonomy</td>\n      <td>Umwelt, Natur, Tierschutz</td>\n      <td>23</td>\n    </tr>\n    <tr>\n      <th>15</th>\n      <td>competence</td>\n      <td>Betreuung von pflegebedürftigen Personen</td>\n      <td>3</td>\n    </tr>\n    <tr>\n      <th>16</th>\n      <td>competence</td>\n      <td>Bildung</td>\n      <td>30</td>\n    </tr>\n    <tr>\n      <th>17</th>\n      <td>competence</td>\n      <td>Bürgerliche Aktivitäten und Gemeinwesen</td>\n      <td>7</td>\n    </tr>\n    <tr>\n      <th>18</th>\n      <td>competence</td>\n      <td>Büro und Wirtschaft</td>\n      <td>5</td>\n    </tr>\n    <tr>\n      <th>19</th>\n      <td>competence</td>\n      <td>Entwicklungshilfe (eig)</td>\n      <td>14</td>\n    </tr>\n    <tr>\n      <th>20</th>\n      <td>competence</td>\n      <td>Flüchtlingshilfe</td>\n      <td>4</td>\n    </tr>\n    <tr>\n      <th>21</th>\n      <td>competence</td>\n      <td>Katastrophenhilfs- und Rettungsdienste</td>\n      <td>3</td>\n    </tr>\n    <tr>\n      <th>22</th>\n      <td>competence</td>\n      <td>Kinderbetreuung</td>\n      <td>2</td>\n    </tr>\n    <tr>\n      <th>23</th>\n      <td>competence</td>\n      <td>Kunst, Kultur, Unterhaltung</td>\n      <td>17</td>\n    </tr>\n    <tr>\n      <th>24</th>\n      <td>competence</td>\n      <td>Politische Arbeit und Interessensvertretung</td>\n      <td>10</td>\n    </tr>\n    <tr>\n      <th>25</th>\n      <td>competence</td>\n      <td>Religion und Kirche</td>\n      <td>1</td>\n    </tr>\n    <tr>\n      <th>26</th>\n      <td>competence</td>\n      <td>Reparaturen, handwerkliche Arbeiten</td>\n      <td>1</td>\n    </tr>\n    <tr>\n      <th>27</th>\n      <td>competence</td>\n      <td>Soziales und Gesundheit</td>\n      <td>43</td>\n    </tr>\n    <tr>\n      <th>28</th>\n      <td>competence</td>\n      <td>Sport und Bewegung</td>\n      <td>6</td>\n    </tr>\n    <tr>\n      <th>29</th>\n      <td>competence</td>\n      <td>Umwelt, Natur, Tierschutz</td>\n      <td>18</td>\n    </tr>\n    <tr>\n      <th>30</th>\n      <td>relatedness</td>\n      <td>Betreuung von pflegebedürftigen Personen</td>\n      <td>5</td>\n    </tr>\n    <tr>\n      <th>31</th>\n      <td>relatedness</td>\n      <td>Bildung</td>\n      <td>43</td>\n    </tr>\n    <tr>\n      <th>32</th>\n      <td>relatedness</td>\n      <td>Bürgerliche Aktivitäten und Gemeinwesen</td>\n      <td>10</td>\n    </tr>\n    <tr>\n      <th>33</th>\n      <td>relatedness</td>\n      <td>Büro und Wirtschaft</td>\n      <td>6</td>\n    </tr>\n    <tr>\n      <th>34</th>\n      <td>relatedness</td>\n      <td>Entwicklungshilfe (eig)</td>\n      <td>21</td>\n    </tr>\n    <tr>\n      <th>35</th>\n      <td>relatedness</td>\n      <td>Flüchtlingshilfe</td>\n      <td>6</td>\n    </tr>\n    <tr>\n      <th>36</th>\n      <td>relatedness</td>\n      <td>Katastrophenhilfs- und Rettungsdienste</td>\n      <td>5</td>\n    </tr>\n    <tr>\n      <th>37</th>\n      <td>relatedness</td>\n      <td>Kinderbetreuung</td>\n      <td>3</td>\n    </tr>\n    <tr>\n      <th>38</th>\n      <td>relatedness</td>\n      <td>Kunst, Kultur, Unterhaltung</td>\n      <td>25</td>\n    </tr>\n    <tr>\n      <th>39</th>\n      <td>relatedness</td>\n      <td>Politische Arbeit und Interessensvertretung</td>\n      <td>14</td>\n    </tr>\n    <tr>\n      <th>40</th>\n      <td>relatedness</td>\n      <td>Religion und Kirche</td>\n      <td>2</td>\n    </tr>\n    <tr>\n      <th>41</th>\n      <td>relatedness</td>\n      <td>Reparaturen, handwerkliche Arbeiten</td>\n      <td>2</td>\n    </tr>\n    <tr>\n      <th>42</th>\n      <td>relatedness</td>\n      <td>Soziales und Gesundheit</td>\n      <td>61</td>\n    </tr>\n    <tr>\n      <th>43</th>\n      <td>relatedness</td>\n      <td>Sport und Bewegung</td>\n      <td>8</td>\n    </tr>\n    <tr>\n      <th>44</th>\n      <td>relatedness</td>\n      <td>Umwelt, Natur, Tierschutz</td>\n      <td>26</td>\n    </tr>\n  </tbody>\n</table>\n</div>"
     },
     "execution_count": 21,
     "metadata": {},
     "output_type": "execute_result"
    }
   ],
   "source": [
    "# show stats\n",
    "sampled_df.groupby(['sdt-cluster', 'sector']).size().reset_index(name='count')"
   ],
   "metadata": {
    "collapsed": false,
    "ExecuteTime": {
     "end_time": "2024-07-11T12:15:53.659515Z",
     "start_time": "2024-07-11T12:15:53.656680Z"
    }
   },
   "id": "de0c689007336213"
  },
  {
   "cell_type": "code",
   "execution_count": null,
   "outputs": [],
   "source": [
    "# save to file\n",
    "sampled_df.to_csv('../data/sample/train_sample_unlabeled.csv', index=False)"
   ],
   "metadata": {
    "collapsed": false
   },
   "id": "df1f39b48ac3c76b"
  }
 ],
 "metadata": {
  "kernelspec": {
   "display_name": "Python 3",
   "language": "python",
   "name": "python3"
  },
  "language_info": {
   "codemirror_mode": {
    "name": "ipython",
    "version": 2
   },
   "file_extension": ".py",
   "mimetype": "text/x-python",
   "name": "python",
   "nbconvert_exporter": "python",
   "pygments_lexer": "ipython2",
   "version": "2.7.6"
  }
 },
 "nbformat": 4,
 "nbformat_minor": 5
}
