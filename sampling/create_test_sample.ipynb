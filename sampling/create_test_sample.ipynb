{
 "cells": [
  {
   "cell_type": "code",
   "execution_count": 2,
   "id": "initial_id",
   "metadata": {
    "collapsed": true,
    "ExecuteTime": {
     "end_time": "2024-07-11T12:20:25.297794Z",
     "start_time": "2024-07-11T12:20:25.086086Z"
    }
   },
   "outputs": [],
   "source": [
    "import pandas as pd"
   ]
  },
  {
   "cell_type": "code",
   "execution_count": 5,
   "outputs": [],
   "source": [
    "# Load the data\n",
    "train_sample_df = pd.read_csv('../data/sample/train_sample_unlabeled.csv', sep=\";\")\n",
    "\n",
    "# read in data\n",
    "task_df = pd.read_csv('../data/raw/tasks_sector_classified.csv', sep=\";\")\n",
    "goals_df = pd.read_csv('../data/raw/goals_sdt_classified.csv', sep=\";\")"
   ],
   "metadata": {
    "collapsed": false,
    "ExecuteTime": {
     "end_time": "2024-07-11T12:20:35.901709Z",
     "start_time": "2024-07-11T12:20:35.841055Z"
    }
   },
   "id": "8e194d7b81e052f8"
  },
  {
   "cell_type": "code",
   "execution_count": 6,
   "outputs": [],
   "source": [
    "# build cross product of goals and task to get all unique combinations\n",
    "all_items_df = goals_df.assign(key=1).merge(task_df.assign(key=1), on='key').drop('key', axis=1)"
   ],
   "metadata": {
    "collapsed": false,
    "ExecuteTime": {
     "end_time": "2024-07-11T12:20:37.477255Z",
     "start_time": "2024-07-11T12:20:37.388958Z"
    }
   },
   "id": "5b999a07c0612348"
  },
  {
   "cell_type": "code",
   "execution_count": 8,
   "outputs": [],
   "source": [
    "# create ids for not choosing same data as in the training set\n",
    "train_sample_df['id'] = (train_sample_df['goal'] + \n",
    "                         train_sample_df['title'] + \n",
    "                         train_sample_df['description'])\n",
    "all_items_df['id'] = (all_items_df['goal'] + \n",
    "                      all_items_df['title'] + \n",
    "                      all_items_df['description'])"
   ],
   "metadata": {
    "collapsed": false,
    "ExecuteTime": {
     "end_time": "2024-07-11T12:22:47.821952Z",
     "start_time": "2024-07-11T12:22:47.395753Z"
    }
   },
   "id": "86be52eb2c2942c5"
  },
  {
   "cell_type": "code",
   "execution_count": 9,
   "outputs": [
    {
     "data": {
      "text/plain": "                                                     goal  sdt-cluster  \\\n0       I would like to be popular and be in the cente...  relatedness   \n1       I would like to be popular and be in the cente...  relatedness   \n2       I would like to be popular and be in the cente...  relatedness   \n3       I would like to be popular and be in the cente...  relatedness   \n4       I would like to be popular and be in the cente...  relatedness   \n...                                                   ...          ...   \n505015        I would like to volunteer for 1 h each week     autonomy   \n505016        I would like to volunteer for 1 h each week     autonomy   \n505017        I would like to volunteer for 1 h each week     autonomy   \n505018        I would like to volunteer for 1 h each week     autonomy   \n505019        I would like to volunteer for 1 h each week     autonomy   \n\n                                                    title  \\\n0       Volunteering with children and youth at \"Elisa...   \n1       Volunteering in Sicily in a housing community ...   \n2       Volunteering in a community home shelter for k...   \n3                  Educational accompaniment for children   \n4       Development of educational methodologies and i...   \n...                                                   ...   \n505015                            Fussballtrainer gesucht   \n505016  Fit im Alter (Gruppenkurs Bewegung Alte Menschen)   \n505017                    Schnalzerfest - Kinderbetreuung   \n505018                  Schnalzen schnuppern / Einführung   \n505019                    Insektenzählung im Nationalpark   \n\n                                              description  \\\n0       Activity description\\n        The Elisabethhei...   \n1       Activity description\\n        Istituto Walden ...   \n2       Activity description\\n        The following ma...   \n3       Activity description\\n        Paz y Esperanza ...   \n4       Activity description\\n        Paz y Esperanza ...   \n...                                                   ...   \n505015  Unser langjähriger ehrenamtlicher Fußballtrain...   \n505016  Viele Alterserkrankungen lassen sich durch aus...   \n505017  Für unser Schnalzerfest suchen wir von 10:00 -...   \n505018  Du wolltest schon immer mehr über die Kunst de...   \n505019  Jeder kann mitmachen, wir möchten den Bestand ...   \n\n                                             sector source  \\\n0                                   Kinderbetreuung     EU   \n1                           Soziales und Gesundheit     EU   \n2                                   Kinderbetreuung     EU   \n3                               Religion und Kirche     EU   \n4       Politische Arbeit und Interessensvertretung     EU   \n...                                             ...    ...   \n505015                           Sport und Bewegung   SELF   \n505016                           Sport und Bewegung   SELF   \n505017                  Kunst, Kultur, Unterhaltung   SELF   \n505018                  Kunst, Kultur, Unterhaltung   SELF   \n505019                    Umwelt, Natur, Tierschutz   SELF   \n\n                                                       id  \n0       I would like to be popular and be in the cente...  \n1       I would like to be popular and be in the cente...  \n2       I would like to be popular and be in the cente...  \n3       I would like to be popular and be in the cente...  \n4       I would like to be popular and be in the cente...  \n...                                                   ...  \n505015  I would like to volunteer for 1 h each weekFus...  \n505016  I would like to volunteer for 1 h each weekFit...  \n505017  I would like to volunteer for 1 h each weekSch...  \n505018  I would like to volunteer for 1 h each weekSch...  \n505019  I would like to volunteer for 1 h each weekIns...  \n\n[504323 rows x 7 columns]",
      "text/html": "<div>\n<style scoped>\n    .dataframe tbody tr th:only-of-type {\n        vertical-align: middle;\n    }\n\n    .dataframe tbody tr th {\n        vertical-align: top;\n    }\n\n    .dataframe thead th {\n        text-align: right;\n    }\n</style>\n<table border=\"1\" class=\"dataframe\">\n  <thead>\n    <tr style=\"text-align: right;\">\n      <th></th>\n      <th>goal</th>\n      <th>sdt-cluster</th>\n      <th>title</th>\n      <th>description</th>\n      <th>sector</th>\n      <th>source</th>\n      <th>id</th>\n    </tr>\n  </thead>\n  <tbody>\n    <tr>\n      <th>0</th>\n      <td>I would like to be popular and be in the cente...</td>\n      <td>relatedness</td>\n      <td>Volunteering with children and youth at \"Elisa...</td>\n      <td>Activity description\\n        The Elisabethhei...</td>\n      <td>Kinderbetreuung</td>\n      <td>EU</td>\n      <td>I would like to be popular and be in the cente...</td>\n    </tr>\n    <tr>\n      <th>1</th>\n      <td>I would like to be popular and be in the cente...</td>\n      <td>relatedness</td>\n      <td>Volunteering in Sicily in a housing community ...</td>\n      <td>Activity description\\n        Istituto Walden ...</td>\n      <td>Soziales und Gesundheit</td>\n      <td>EU</td>\n      <td>I would like to be popular and be in the cente...</td>\n    </tr>\n    <tr>\n      <th>2</th>\n      <td>I would like to be popular and be in the cente...</td>\n      <td>relatedness</td>\n      <td>Volunteering in a community home shelter for k...</td>\n      <td>Activity description\\n        The following ma...</td>\n      <td>Kinderbetreuung</td>\n      <td>EU</td>\n      <td>I would like to be popular and be in the cente...</td>\n    </tr>\n    <tr>\n      <th>3</th>\n      <td>I would like to be popular and be in the cente...</td>\n      <td>relatedness</td>\n      <td>Educational accompaniment for children</td>\n      <td>Activity description\\n        Paz y Esperanza ...</td>\n      <td>Religion und Kirche</td>\n      <td>EU</td>\n      <td>I would like to be popular and be in the cente...</td>\n    </tr>\n    <tr>\n      <th>4</th>\n      <td>I would like to be popular and be in the cente...</td>\n      <td>relatedness</td>\n      <td>Development of educational methodologies and i...</td>\n      <td>Activity description\\n        Paz y Esperanza ...</td>\n      <td>Politische Arbeit und Interessensvertretung</td>\n      <td>EU</td>\n      <td>I would like to be popular and be in the cente...</td>\n    </tr>\n    <tr>\n      <th>...</th>\n      <td>...</td>\n      <td>...</td>\n      <td>...</td>\n      <td>...</td>\n      <td>...</td>\n      <td>...</td>\n      <td>...</td>\n    </tr>\n    <tr>\n      <th>505015</th>\n      <td>I would like to volunteer for 1 h each week</td>\n      <td>autonomy</td>\n      <td>Fussballtrainer gesucht</td>\n      <td>Unser langjähriger ehrenamtlicher Fußballtrain...</td>\n      <td>Sport und Bewegung</td>\n      <td>SELF</td>\n      <td>I would like to volunteer for 1 h each weekFus...</td>\n    </tr>\n    <tr>\n      <th>505016</th>\n      <td>I would like to volunteer for 1 h each week</td>\n      <td>autonomy</td>\n      <td>Fit im Alter (Gruppenkurs Bewegung Alte Menschen)</td>\n      <td>Viele Alterserkrankungen lassen sich durch aus...</td>\n      <td>Sport und Bewegung</td>\n      <td>SELF</td>\n      <td>I would like to volunteer for 1 h each weekFit...</td>\n    </tr>\n    <tr>\n      <th>505017</th>\n      <td>I would like to volunteer for 1 h each week</td>\n      <td>autonomy</td>\n      <td>Schnalzerfest - Kinderbetreuung</td>\n      <td>Für unser Schnalzerfest suchen wir von 10:00 -...</td>\n      <td>Kunst, Kultur, Unterhaltung</td>\n      <td>SELF</td>\n      <td>I would like to volunteer for 1 h each weekSch...</td>\n    </tr>\n    <tr>\n      <th>505018</th>\n      <td>I would like to volunteer for 1 h each week</td>\n      <td>autonomy</td>\n      <td>Schnalzen schnuppern / Einführung</td>\n      <td>Du wolltest schon immer mehr über die Kunst de...</td>\n      <td>Kunst, Kultur, Unterhaltung</td>\n      <td>SELF</td>\n      <td>I would like to volunteer for 1 h each weekSch...</td>\n    </tr>\n    <tr>\n      <th>505019</th>\n      <td>I would like to volunteer for 1 h each week</td>\n      <td>autonomy</td>\n      <td>Insektenzählung im Nationalpark</td>\n      <td>Jeder kann mitmachen, wir möchten den Bestand ...</td>\n      <td>Umwelt, Natur, Tierschutz</td>\n      <td>SELF</td>\n      <td>I would like to volunteer for 1 h each weekIns...</td>\n    </tr>\n  </tbody>\n</table>\n<p>504323 rows × 7 columns</p>\n</div>"
     },
     "execution_count": 9,
     "metadata": {},
     "output_type": "execute_result"
    }
   ],
   "source": [
    "# remove items that are in the training set\n",
    "all_items_df = all_items_df[~all_items_df['id'].isin(train_sample_df['id'])]\n",
    "all_items_df"
   ],
   "metadata": {
    "collapsed": false,
    "ExecuteTime": {
     "end_time": "2024-07-11T12:23:19.737518Z",
     "start_time": "2024-07-11T12:23:19.700510Z"
    }
   },
   "id": "c15ee994764a36e8"
  },
  {
   "cell_type": "code",
   "execution_count": 10,
   "outputs": [],
   "source": [
    "def sample_group(group, frac=0.00025):\n",
    "    return group.sample(frac=frac)"
   ],
   "metadata": {
    "collapsed": false,
    "ExecuteTime": {
     "end_time": "2024-07-11T12:24:21.102830Z",
     "start_time": "2024-07-11T12:24:21.097241Z"
    }
   },
   "id": "f7f2e716fffc72b6"
  },
  {
   "cell_type": "code",
   "execution_count": 12,
   "outputs": [
    {
     "name": "stderr",
     "output_type": "stream",
     "text": [
      "/var/folders/_z/23l2kzhs6r1dz6q78mm2q1lw0000gn/T/ipykernel_22518/3790222561.py:1: DeprecationWarning: DataFrameGroupBy.apply operated on the grouping columns. This behavior is deprecated, and in a future version of pandas the grouping columns will be excluded from the operation. Either pass `include_groups=False` to exclude the groupings or explicitly select the grouping columns after groupby to silence this warning.\n",
      "  test_sample_df = all_items_df.groupby(['sdt-cluster', 'sector', 'source']).apply(sample_group).reset_index(drop=True)\n"
     ]
    }
   ],
   "source": [
    "test_sample_df = all_items_df.groupby(['sdt-cluster', 'sector', 'source']).apply(sample_group).reset_index(drop=True)"
   ],
   "metadata": {
    "collapsed": false,
    "ExecuteTime": {
     "end_time": "2024-07-11T12:24:26.628297Z",
     "start_time": "2024-07-11T12:24:26.457197Z"
    }
   },
   "id": "ddc72124929d1ec9"
  },
  {
   "cell_type": "code",
   "execution_count": 13,
   "outputs": [
    {
     "data": {
      "text/plain": "    sdt-cluster                                   sector source  count\n0      autonomy                                  Bildung     EU      5\n1      autonomy                                  Bildung     VC      1\n2      autonomy                                  Bildung     VM      1\n3      autonomy  Bürgerliche Aktivitäten und Gemeinwesen     VC      1\n4      autonomy                      Büro und Wirtschaft     VM      1\n..          ...                                      ...    ...    ...\n63  relatedness                       Sport und Bewegung     EU      1\n64  relatedness                       Sport und Bewegung     VC      1\n65  relatedness                Umwelt, Natur, Tierschutz     EU      3\n66  relatedness                Umwelt, Natur, Tierschutz     VC      1\n67  relatedness                Umwelt, Natur, Tierschutz     VM      1\n\n[68 rows x 4 columns]",
      "text/html": "<div>\n<style scoped>\n    .dataframe tbody tr th:only-of-type {\n        vertical-align: middle;\n    }\n\n    .dataframe tbody tr th {\n        vertical-align: top;\n    }\n\n    .dataframe thead th {\n        text-align: right;\n    }\n</style>\n<table border=\"1\" class=\"dataframe\">\n  <thead>\n    <tr style=\"text-align: right;\">\n      <th></th>\n      <th>sdt-cluster</th>\n      <th>sector</th>\n      <th>source</th>\n      <th>count</th>\n    </tr>\n  </thead>\n  <tbody>\n    <tr>\n      <th>0</th>\n      <td>autonomy</td>\n      <td>Bildung</td>\n      <td>EU</td>\n      <td>5</td>\n    </tr>\n    <tr>\n      <th>1</th>\n      <td>autonomy</td>\n      <td>Bildung</td>\n      <td>VC</td>\n      <td>1</td>\n    </tr>\n    <tr>\n      <th>2</th>\n      <td>autonomy</td>\n      <td>Bildung</td>\n      <td>VM</td>\n      <td>1</td>\n    </tr>\n    <tr>\n      <th>3</th>\n      <td>autonomy</td>\n      <td>Bürgerliche Aktivitäten und Gemeinwesen</td>\n      <td>VC</td>\n      <td>1</td>\n    </tr>\n    <tr>\n      <th>4</th>\n      <td>autonomy</td>\n      <td>Büro und Wirtschaft</td>\n      <td>VM</td>\n      <td>1</td>\n    </tr>\n    <tr>\n      <th>...</th>\n      <td>...</td>\n      <td>...</td>\n      <td>...</td>\n      <td>...</td>\n    </tr>\n    <tr>\n      <th>63</th>\n      <td>relatedness</td>\n      <td>Sport und Bewegung</td>\n      <td>EU</td>\n      <td>1</td>\n    </tr>\n    <tr>\n      <th>64</th>\n      <td>relatedness</td>\n      <td>Sport und Bewegung</td>\n      <td>VC</td>\n      <td>1</td>\n    </tr>\n    <tr>\n      <th>65</th>\n      <td>relatedness</td>\n      <td>Umwelt, Natur, Tierschutz</td>\n      <td>EU</td>\n      <td>3</td>\n    </tr>\n    <tr>\n      <th>66</th>\n      <td>relatedness</td>\n      <td>Umwelt, Natur, Tierschutz</td>\n      <td>VC</td>\n      <td>1</td>\n    </tr>\n    <tr>\n      <th>67</th>\n      <td>relatedness</td>\n      <td>Umwelt, Natur, Tierschutz</td>\n      <td>VM</td>\n      <td>1</td>\n    </tr>\n  </tbody>\n</table>\n<p>68 rows × 4 columns</p>\n</div>"
     },
     "execution_count": 13,
     "metadata": {},
     "output_type": "execute_result"
    }
   ],
   "source": [
    "test_sample_df.groupby(['sdt-cluster', 'sector', 'source']).size().reset_index(name='count')"
   ],
   "metadata": {
    "collapsed": false,
    "ExecuteTime": {
     "end_time": "2024-07-11T12:24:30.559659Z",
     "start_time": "2024-07-11T12:24:30.556946Z"
    }
   },
   "id": "6aefed846fd042e7"
  },
  {
   "cell_type": "code",
   "execution_count": null,
   "outputs": [],
   "source": [
    "# save the test sample\n",
    "test_sample_df.to_csv('../data/sample/test_sample_unlabeled.csv', sep=\";\", index=False)"
   ],
   "metadata": {
    "collapsed": false
   },
   "id": "20f58255e1b44a0"
  }
 ],
 "metadata": {
  "kernelspec": {
   "display_name": "Python 3",
   "language": "python",
   "name": "python3"
  },
  "language_info": {
   "codemirror_mode": {
    "name": "ipython",
    "version": 2
   },
   "file_extension": ".py",
   "mimetype": "text/x-python",
   "name": "python",
   "nbconvert_exporter": "python",
   "pygments_lexer": "ipython2",
   "version": "2.7.6"
  }
 },
 "nbformat": 4,
 "nbformat_minor": 5
}
