{
 "cells": [
  {
   "cell_type": "code",
   "execution_count": 1,
   "id": "initial_id",
   "metadata": {
    "collapsed": true,
    "ExecuteTime": {
     "end_time": "2024-07-11T12:51:46.216848Z",
     "start_time": "2024-07-11T12:51:45.928748Z"
    }
   },
   "outputs": [],
   "source": [
    "import pandas as pd\n",
    "from llms.OpenAIAssistantChatbot import OpenAIAssistantChatbot\n",
    "import json"
   ]
  },
  {
   "cell_type": "code",
   "execution_count": 2,
   "outputs": [],
   "source": [
    "sample_df = pd.read_csv('../data/sample/train_sample_unlabeled.csv', sep=';')"
   ],
   "metadata": {
    "collapsed": false,
    "ExecuteTime": {
     "end_time": "2024-07-11T12:51:46.230869Z",
     "start_time": "2024-07-11T12:51:46.217710Z"
    }
   },
   "id": "9ceb0acaf1955406"
  },
  {
   "cell_type": "code",
   "execution_count": null,
   "outputs": [],
   "source": [
    "# 3 Runs\n",
    "run_titles = ['qwen2_0', 'qwen2_1', 'qwen2_2']\n",
    "\n",
    "# Do Runs\n",
    "for run_title in run_titles:\n",
    "    # Add Columns\n",
    "    sample_df[run_title+'_label'] = None\n",
    "    sample_df[run_title+'_reason'] = None\n",
    "    # Do Run\n",
    "    for index, row in sample_df.iterrows():\n",
    "        print(f\"({index}/{len(sample_df)})\")\n",
    "        d = str(row['description']).replace('\\n', ' ')\n",
    "        message = f\"Does it significantly help me achieve my goal -'{row['goal']}'- if I perform the volunteering activity titled '{str(row['title']).strip()}' with the following description: '{d}'?\"\n",
    "        # send message to Local Model\n",
    "        response = OpenAIAssistantChatbot.ask_local_model(message)\n",
    "        # get JSON Object\n",
    "        try:\n",
    "            json_response = json.loads(response.content[response.content.rfind('{') : response.content.rfind('}') + 1])\n",
    "            # Save\n",
    "            sample_df.at[index, run_title+'_label'] = json_response['label']\n",
    "            sample_df.at[index, run_title+'_reason'] = json_response['reason']\n",
    "        except Exception as e:\n",
    "            print(f\"Error index: {index}\")\n",
    "            print(f\"Error: {response.content[response.content.rfind('{') : response.content.rfind('}') + 1]}\")     \n",
    "            print(f\"Error: {e}\")"
   ],
   "metadata": {
    "collapsed": false
   },
   "id": "70a598d5159b1e91"
  },
  {
   "cell_type": "code",
   "execution_count": null,
   "outputs": [],
   "source": [
    "# Index 124 JSON Parsing ERROR Correction\n",
    "for run_title in run_titles:\n",
    "    sample_df.at[124, run_title+'_label'] = 0\n",
    "    sample_df.at[124, run_title+'_reason'] = \"\"\"The description of the 'Long-term volunteering project in EA World-Our Home' focuses on developing professional skills, leadership, team building, communication, intercultural dialogue, and cooperation. While these activities can be beneficial for personal growth and skill development, they do not specifically emphasize taking risks as a primary goal. The main objectives are more about learning new skills and contributing to the community rather than actively seeking out risky situations.\"\"\""
   ],
   "metadata": {
    "collapsed": false
   },
   "id": "6539226f24fe6a98"
  },
  {
   "cell_type": "code",
   "execution_count": null,
   "outputs": [],
   "source": [
    "# check if model is consistent\n",
    "def get_consense(row, columns):\n",
    "    # check if all cols hava same value\n",
    "    label_set = set(row[col] for col in columns)\n",
    "    return len(label_set) == 1\n",
    "\n",
    "# get final decision of labels\n",
    "def get_final_decision(row, columns):\n",
    "    # check all cols for 0 and 1 and decide for final label (most agreed)\n",
    "    labels = [row[col] for col in columns]\n",
    "    return 1 if labels.count(0) < labels.count(1) else 0"
   ],
   "metadata": {
    "collapsed": false
   },
   "id": "11c7b85f6e7431c"
  },
  {
   "cell_type": "markdown",
   "source": [],
   "metadata": {
    "collapsed": false
   },
   "id": "4637062b8a2dd656"
  },
  {
   "cell_type": "code",
   "execution_count": null,
   "outputs": [],
   "source": [
    "# check for consent\n",
    "sample_df['consense'] = sample_df.apply(lambda row: get_consense(row, [run_title+'_label' for run_title in run_titles]), axis=1)\n",
    "sample_df['final_label'] = sample_df.apply(lambda row: get_final_decision(row, [run_title+'_label' for run_title in run_titles]), axis=1)"
   ],
   "metadata": {
    "collapsed": false
   },
   "id": "c7b2e110f29ba8a3"
  },
  {
   "cell_type": "code",
   "execution_count": null,
   "outputs": [],
   "source": [
    "# save to csv\n",
    "sample_df.to_csv('../data/labeled_data/qwen_labeled_train_sample.csv', sep=';', index=False)"
   ],
   "metadata": {
    "collapsed": false
   },
   "id": "6a9c6ca95f0e8280"
  }
 ],
 "metadata": {
  "kernelspec": {
   "display_name": "Python 3",
   "language": "python",
   "name": "python3"
  },
  "language_info": {
   "codemirror_mode": {
    "name": "ipython",
    "version": 2
   },
   "file_extension": ".py",
   "mimetype": "text/x-python",
   "name": "python",
   "nbconvert_exporter": "python",
   "pygments_lexer": "ipython2",
   "version": "2.7.6"
  }
 },
 "nbformat": 4,
 "nbformat_minor": 5
}
