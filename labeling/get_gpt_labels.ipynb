{
 "cells": [
  {
   "cell_type": "code",
   "execution_count": 7,
   "id": "initial_id",
   "metadata": {
    "collapsed": true,
    "ExecuteTime": {
     "end_time": "2024-07-11T12:47:32.552962Z",
     "start_time": "2024-07-11T12:47:32.547726Z"
    }
   },
   "outputs": [],
   "source": [
    "import pandas as pd\n",
    "from llms.OpenAIAssistantChatbot import OpenAIAssistantChatbot\n",
    "from threading import Thread, Lock\n",
    "import time"
   ]
  },
  {
   "cell_type": "code",
   "execution_count": 8,
   "outputs": [
    {
     "data": {
      "text/plain": "                                                  goal  sdt-cluster  \\\n0    I would like to be committed to a cause (e.g.,...     autonomy   \n1       I would like to practice religious traditions.     autonomy   \n2    I would like to have an exciting, stimulating ...     autonomy   \n3                         I would like to help others.     autonomy   \n4                   I would like to achieve salvation.     autonomy   \n..                                                 ...          ...   \n600  I would like to be physically healthy, maintai...  relatedness   \n601                    I would like to control others.  relatedness   \n602        I would like to avoid conflict with others.  relatedness   \n603             I would like to be better than others.  relatedness   \n604    I would like to be conventional or traditional.  relatedness   \n\n                                                 title  \\\n0    Volunteering in Zaragoza with People with Disa...   \n1                        Volunteering for older people   \n2                              volunteer/bingo support   \n3                   hair salon assistant - sylvan lake   \n4                         Stay Active Volunteer vol. 2   \n..                                                 ...   \n600                                    foster dog care   \n601  For Volunteers from Italy:  Educazione ambient...   \n602                        SJ/ESC67 – Timber recycling   \n603             Italy - promoting mountain communities   \n604  European Solidarity Corps (ESC) Events & Outre...   \n\n                                           description  \\\n0    Activity description\\n        The Project is c...   \n1    How you can get involvedDo you enjoy being aro...   \n2    extendicare michener hill's recreation departm...   \n3    bethany riverview is seeking a dynamic volunte...   \n4    Activity description\\n        InCo-Molfetta ha...   \n..                                                 ...   \n600  some volunteers provide a short-term, temporar...   \n601  Activity description\\n        Il centro visita...   \n602  Activity description\\n        Since 2002, the ...   \n603  Activity description\\n        Organization ALA...   \n604  Activity description\\n        We are looking f...   \n\n                                   gpt_sector  \\\n0    Betreuung von pflegebedürftigen Personen   \n1    Betreuung von pflegebedürftigen Personen   \n2    Betreuung von pflegebedürftigen Personen   \n3    Betreuung von pflegebedürftigen Personen   \n4                                     Bildung   \n..                                        ...   \n600                 Umwelt, Natur, Tierschutz   \n601                 Umwelt, Natur, Tierschutz   \n602                 Umwelt, Natur, Tierschutz   \n603                 Umwelt, Natur, Tierschutz   \n604                 Umwelt, Natur, Tierschutz   \n\n                                     gpt_sector_reason source  \n0               Working with people with disabilities.     EU  \n1              Besuche und Begleitung älterer Menschen    ULF  \n2                           Bingo support für Bewohner     VC  \n3                Supporting senior residents in salon.     VC  \n4                     Englischunterricht und Workshops     EU  \n..                                                 ...    ...  \n600                               Fosterhundebetreuung     VC  \n601  Die Tätigkeit umfasst den Schutz der Natur, di...     EU  \n602                                 Recycling von Holz     EU  \n603                    Outdoor activities in mountains     EU  \n604                 Schutz von Vögeln und Lebensräumen     EU  \n\n[605 rows x 7 columns]",
      "text/html": "<div>\n<style scoped>\n    .dataframe tbody tr th:only-of-type {\n        vertical-align: middle;\n    }\n\n    .dataframe tbody tr th {\n        vertical-align: top;\n    }\n\n    .dataframe thead th {\n        text-align: right;\n    }\n</style>\n<table border=\"1\" class=\"dataframe\">\n  <thead>\n    <tr style=\"text-align: right;\">\n      <th></th>\n      <th>goal</th>\n      <th>sdt-cluster</th>\n      <th>title</th>\n      <th>description</th>\n      <th>gpt_sector</th>\n      <th>gpt_sector_reason</th>\n      <th>source</th>\n    </tr>\n  </thead>\n  <tbody>\n    <tr>\n      <th>0</th>\n      <td>I would like to be committed to a cause (e.g.,...</td>\n      <td>autonomy</td>\n      <td>Volunteering in Zaragoza with People with Disa...</td>\n      <td>Activity description\\n        The Project is c...</td>\n      <td>Betreuung von pflegebedürftigen Personen</td>\n      <td>Working with people with disabilities.</td>\n      <td>EU</td>\n    </tr>\n    <tr>\n      <th>1</th>\n      <td>I would like to practice religious traditions.</td>\n      <td>autonomy</td>\n      <td>Volunteering for older people</td>\n      <td>How you can get involvedDo you enjoy being aro...</td>\n      <td>Betreuung von pflegebedürftigen Personen</td>\n      <td>Besuche und Begleitung älterer Menschen</td>\n      <td>ULF</td>\n    </tr>\n    <tr>\n      <th>2</th>\n      <td>I would like to have an exciting, stimulating ...</td>\n      <td>autonomy</td>\n      <td>volunteer/bingo support</td>\n      <td>extendicare michener hill's recreation departm...</td>\n      <td>Betreuung von pflegebedürftigen Personen</td>\n      <td>Bingo support für Bewohner</td>\n      <td>VC</td>\n    </tr>\n    <tr>\n      <th>3</th>\n      <td>I would like to help others.</td>\n      <td>autonomy</td>\n      <td>hair salon assistant - sylvan lake</td>\n      <td>bethany riverview is seeking a dynamic volunte...</td>\n      <td>Betreuung von pflegebedürftigen Personen</td>\n      <td>Supporting senior residents in salon.</td>\n      <td>VC</td>\n    </tr>\n    <tr>\n      <th>4</th>\n      <td>I would like to achieve salvation.</td>\n      <td>autonomy</td>\n      <td>Stay Active Volunteer vol. 2</td>\n      <td>Activity description\\n        InCo-Molfetta ha...</td>\n      <td>Bildung</td>\n      <td>Englischunterricht und Workshops</td>\n      <td>EU</td>\n    </tr>\n    <tr>\n      <th>...</th>\n      <td>...</td>\n      <td>...</td>\n      <td>...</td>\n      <td>...</td>\n      <td>...</td>\n      <td>...</td>\n      <td>...</td>\n    </tr>\n    <tr>\n      <th>600</th>\n      <td>I would like to be physically healthy, maintai...</td>\n      <td>relatedness</td>\n      <td>foster dog care</td>\n      <td>some volunteers provide a short-term, temporar...</td>\n      <td>Umwelt, Natur, Tierschutz</td>\n      <td>Fosterhundebetreuung</td>\n      <td>VC</td>\n    </tr>\n    <tr>\n      <th>601</th>\n      <td>I would like to control others.</td>\n      <td>relatedness</td>\n      <td>For Volunteers from Italy:  Educazione ambient...</td>\n      <td>Activity description\\n        Il centro visita...</td>\n      <td>Umwelt, Natur, Tierschutz</td>\n      <td>Die Tätigkeit umfasst den Schutz der Natur, di...</td>\n      <td>EU</td>\n    </tr>\n    <tr>\n      <th>602</th>\n      <td>I would like to avoid conflict with others.</td>\n      <td>relatedness</td>\n      <td>SJ/ESC67 – Timber recycling</td>\n      <td>Activity description\\n        Since 2002, the ...</td>\n      <td>Umwelt, Natur, Tierschutz</td>\n      <td>Recycling von Holz</td>\n      <td>EU</td>\n    </tr>\n    <tr>\n      <th>603</th>\n      <td>I would like to be better than others.</td>\n      <td>relatedness</td>\n      <td>Italy - promoting mountain communities</td>\n      <td>Activity description\\n        Organization ALA...</td>\n      <td>Umwelt, Natur, Tierschutz</td>\n      <td>Outdoor activities in mountains</td>\n      <td>EU</td>\n    </tr>\n    <tr>\n      <th>604</th>\n      <td>I would like to be conventional or traditional.</td>\n      <td>relatedness</td>\n      <td>European Solidarity Corps (ESC) Events &amp; Outre...</td>\n      <td>Activity description\\n        We are looking f...</td>\n      <td>Umwelt, Natur, Tierschutz</td>\n      <td>Schutz von Vögeln und Lebensräumen</td>\n      <td>EU</td>\n    </tr>\n  </tbody>\n</table>\n<p>605 rows × 7 columns</p>\n</div>"
     },
     "execution_count": 8,
     "metadata": {},
     "output_type": "execute_result"
    }
   ],
   "source": [
    "# read in data\n",
    "df_samples = pd.read_csv('../data/sample/train_sample_unlabeled.csv', sep=';')\n",
    "df_samples"
   ],
   "metadata": {
    "collapsed": false,
    "ExecuteTime": {
     "end_time": "2024-07-11T12:47:32.757023Z",
     "start_time": "2024-07-11T12:47:32.739772Z"
    }
   },
   "id": "98c54ed013d0ab1a"
  },
  {
   "cell_type": "code",
   "execution_count": 9,
   "outputs": [],
   "source": [
    "# make copy and create empty fields\n",
    "df_samples_labeled = df_samples.copy()\n",
    "df_samples_labeled['label'] = None\n",
    "df_samples_labeled['score'] = None\n",
    "df_samples_labeled['reason'] = None"
   ],
   "metadata": {
    "collapsed": false,
    "ExecuteTime": {
     "end_time": "2024-07-11T12:47:32.922561Z",
     "start_time": "2024-07-11T12:47:32.919984Z"
    }
   },
   "id": "bdeda4ce4f36eb3e"
  },
  {
   "cell_type": "code",
   "execution_count": 10,
   "outputs": [],
   "source": [
    "# create a Lock for the threads\n",
    "DF_LOCK = Lock()"
   ],
   "metadata": {
    "collapsed": false,
    "ExecuteTime": {
     "end_time": "2024-07-11T12:47:33.652328Z",
     "start_time": "2024-07-11T12:47:33.649457Z"
    }
   },
   "id": "adb19467c0867719"
  },
  {
   "cell_type": "code",
   "execution_count": 11,
   "outputs": [],
   "source": [
    "# function for getting response and save to df with Lock\n",
    "def get_response(row, index):\n",
    "    if row['label'] is not None:\n",
    "        return\n",
    "    \n",
    "    chatbot = OpenAIAssistantChatbot(\"asst_R5NEGWNwvUh0J7dsY5C1MqLV\") # % gpt\n",
    "    message = f\"Goal: {row['goal']}\\n\\nTask-Title: {row['title']}\\n\\nTask-Description: {row['description']}\"\n",
    "    response = chatbot.Run_JSON(message)\n",
    "    score = response['score']\n",
    "    label = response['label']\n",
    "    reason = response['reason']\n",
    "    \n",
    "    # update row in df\n",
    "    row['label'] = label\n",
    "    row['score'] = score\n",
    "    row['reason'] = reason\n",
    "    with DF_LOCK:\n",
    "        df_samples_labeled.loc[index] = row"
   ],
   "metadata": {
    "collapsed": false,
    "ExecuteTime": {
     "end_time": "2024-07-11T12:48:09.247238Z",
     "start_time": "2024-07-11T12:48:09.243268Z"
    }
   },
   "id": "60a69b5aaed691a1"
  },
  {
   "cell_type": "code",
   "execution_count": null,
   "outputs": [],
   "source": [
    "# create a counter because Api is limited to 200 Requests per Minute\n",
    "counter = 0\n",
    "threads = []\n",
    "\n",
    "# save timestamps\n",
    "global_start_time = time.time()\n",
    "start_time = time.time()\n",
    "\n",
    "# iterate over all rows and start a thread for each row\n",
    "for index, row in df_samples_labeled.iterrows():\n",
    "    # check if 190 requests are done and wait for 60 seconds\n",
    "    if counter == 190:\n",
    "        print(\"Done 190 requests\")\n",
    "        cur_time = time.time()\n",
    "        if cur_time - start_time < 61:\n",
    "            time.sleep(60 - (cur_time - start_time))\n",
    "        \n",
    "        counter = 0\n",
    "        start_time = time.time()\n",
    "    # start a Thread for receiving the response from chatgpt \n",
    "    thread = Thread(target=get_response, args=(row, index))\n",
    "    threads.append(thread)\n",
    "    thread.start()\n",
    "    counter += 1\n",
    "\n",
    "# wait for all threads to finish\n",
    "for thread in threads:\n",
    "    thread.join()\n",
    "    threads = []\n",
    "    \n",
    "print(f\"Took about {time.time() - global_start_time} seconds to complete all requests\")    "
   ],
   "metadata": {
    "collapsed": false
   },
   "id": "aafb1d4871b9e8bf"
  },
  {
   "cell_type": "code",
   "execution_count": null,
   "outputs": [],
   "source": [
    "# save labeled data\n",
    "df_samples_labeled.to_csv('../data/labeled_data/gpt_labeled_train_sample.csv', sep=';', index=False)"
   ],
   "metadata": {
    "collapsed": false
   },
   "id": "4bae7ffb3d558690"
  }
 ],
 "metadata": {
  "kernelspec": {
   "display_name": "Python 3",
   "language": "python",
   "name": "python3"
  },
  "language_info": {
   "codemirror_mode": {
    "name": "ipython",
    "version": 2
   },
   "file_extension": ".py",
   "mimetype": "text/x-python",
   "name": "python",
   "nbconvert_exporter": "python",
   "pygments_lexer": "ipython2",
   "version": "2.7.6"
  }
 },
 "nbformat": 4,
 "nbformat_minor": 5
}
